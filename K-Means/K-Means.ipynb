{
 "cells": [
  {
   "cell_type": "code",
   "execution_count": 1,
   "metadata": {},
   "outputs": [],
   "source": [
    "import numpy as np\n",
    "import pandas as pd\n",
    "import matplotlib.pyplot as plt\n",
    "import matplotlib.animation as animation\n",
    "%matplotlib inline"
   ]
  },
  {
   "cell_type": "code",
   "execution_count": 2,
   "metadata": {},
   "outputs": [
    {
     "data": {
      "text/html": [
       "<div>\n",
       "<style scoped>\n",
       "    .dataframe tbody tr th:only-of-type {\n",
       "        vertical-align: middle;\n",
       "    }\n",
       "\n",
       "    .dataframe tbody tr th {\n",
       "        vertical-align: top;\n",
       "    }\n",
       "\n",
       "    .dataframe thead th {\n",
       "        text-align: right;\n",
       "    }\n",
       "</style>\n",
       "<table border=\"1\" class=\"dataframe\">\n",
       "  <thead>\n",
       "    <tr style=\"text-align: right;\">\n",
       "      <th></th>\n",
       "      <th>Feat.1</th>\n",
       "      <th>Feat.2</th>\n",
       "    </tr>\n",
       "  </thead>\n",
       "  <tbody>\n",
       "    <tr>\n",
       "      <th>count</th>\n",
       "      <td>40.000000</td>\n",
       "      <td>40.000000</td>\n",
       "    </tr>\n",
       "    <tr>\n",
       "      <th>mean</th>\n",
       "      <td>0.901947</td>\n",
       "      <td>0.929289</td>\n",
       "    </tr>\n",
       "    <tr>\n",
       "      <th>std</th>\n",
       "      <td>0.724671</td>\n",
       "      <td>0.685050</td>\n",
       "    </tr>\n",
       "    <tr>\n",
       "      <th>min</th>\n",
       "      <td>0.016470</td>\n",
       "      <td>0.037984</td>\n",
       "    </tr>\n",
       "    <tr>\n",
       "      <th>25%</th>\n",
       "      <td>0.218442</td>\n",
       "      <td>0.317172</td>\n",
       "    </tr>\n",
       "    <tr>\n",
       "      <th>50%</th>\n",
       "      <td>0.746618</td>\n",
       "      <td>0.774528</td>\n",
       "    </tr>\n",
       "    <tr>\n",
       "      <th>75%</th>\n",
       "      <td>1.566863</td>\n",
       "      <td>1.536438</td>\n",
       "    </tr>\n",
       "    <tr>\n",
       "      <th>max</th>\n",
       "      <td>1.994243</td>\n",
       "      <td>1.995481</td>\n",
       "    </tr>\n",
       "  </tbody>\n",
       "</table>\n",
       "</div>"
      ],
      "text/plain": [
       "          Feat.1     Feat.2\n",
       "count  40.000000  40.000000\n",
       "mean    0.901947   0.929289\n",
       "std     0.724671   0.685050\n",
       "min     0.016470   0.037984\n",
       "25%     0.218442   0.317172\n",
       "50%     0.746618   0.774528\n",
       "75%     1.566863   1.536438\n",
       "max     1.994243   1.995481"
      ]
     },
     "execution_count": 2,
     "metadata": {},
     "output_type": "execute_result"
    }
   ],
   "source": [
    "dat=np.loadtxt('crime.txt')\n",
    "dat\n",
    "vis=pd.DataFrame(dat,columns=['Feat.1', 'Feat.2'])\n",
    "vis.describe()"
   ]
  },
  {
   "cell_type": "markdown",
   "metadata": {},
   "source": [
    "### Euclidean distance\n",
    "Distance in between centroid and any point, for assigning the datapoint under suitable cluster."
   ]
  },
  {
   "cell_type": "code",
   "execution_count": 3,
   "metadata": {},
   "outputs": [],
   "source": [
    "def eucladian(a, b):\n",
    "    return np.linalg.norm(a-b)"
   ]
  },
  {
   "cell_type": "markdown",
   "metadata": {},
   "source": [
    "### Define some random centroid:\n",
    "Random centroid values chosen from random K values, suppose we dont know number of clusters (Though its provided in the dataset, but lets cluster the data on its own using Elbow method)"
   ]
  },
  {
   "cell_type": "code",
   "execution_count": 4,
   "metadata": {},
   "outputs": [
    {
     "name": "stdout",
     "output_type": "stream",
     "text": [
      "(40, 2)\n"
     ]
    }
   ],
   "source": [
    "num_instances, num_features= dat.shape\n",
    "print(num_instances,num_features)\n",
    "\n",
    "history_cent=[] \n",
    "\n",
    "\n",
    "def k_mean(k):\n",
    "    # For keeping track of history of centroid position\n",
    "    centroid =dat[np.random.randint(0, num_instances - 1, size=k)]\n",
    "    history_cent.append(centroid)\n",
    "    #centroid.shape\n",
    "    # Feeding the current value, which will continue to exist\n",
    "    past_centroid=np.zeros(centroid.shape)\n",
    "    store=np.zeros((num_instances,1))\n",
    "    #store the clusters using a n,1 tuple\n",
    "    #print(store)\n",
    "\n",
    "    norm_val=eucladian(centroid,past_centroid)\n",
    "    \n",
    "    ## Starting the training now:\n",
    "    \n",
    "    garb=0\n",
    "    iterations=0\n",
    "    while norm_val>garb:\n",
    "        iterations+=1\n",
    "        norm_val=eucladian(centroid,past_centroid)\n",
    "        \n",
    "        #give a for for each and every data point::\n",
    "        for index0,val in enumerate(dat):\n",
    "            dis_vec=np.zeros((k,1))\n",
    "            #k size distance vector initialized for total index\n",
    "            #give a for for measuring the distance btwn centroid and data points::\n",
    "            for ind,val_cent in enumerate(centroid):\n",
    "                \n",
    "                dis_vec[ind]=eucladian(val_cent,val)\n",
    "                \n",
    "                \n",
    "            store[index0,0]=np.argmin(dis_vec)\n",
    "            #cut the crap, and store the best values, and this assigns values to respective clusters\n",
    "            \n",
    "        tmp_centroid=np.zeros((k,num_features))\n",
    "        #buffer for updating centroid val\n",
    "       \n",
    "        for count in range(len(centroid)):\n",
    "            \n",
    "            #get all the points assigned to a cluster\n",
    "            instances_close =[i for i in range(len(store)) if store[i]== count]\n",
    "            #find the mean of those points, this is our new centroid\n",
    "            centroid=np.mean(dat[instances_close], axis=0)\n",
    "            #add our new centroid to our new temporary list\n",
    "            tmp_centroid[count, :] = centroid\n",
    "            \n",
    "        centroid=tmp_centroid\n",
    "        #update val\n",
    "        history_cent.append(tmp_centroid)\n",
    "        \n",
    "    return centroid, history_cent,store"
   ]
  },
  {
   "cell_type": "markdown",
   "metadata": {},
   "source": [
    "## Execute K-means"
   ]
  },
  {
   "cell_type": "code",
   "execution_count": 5,
   "metadata": {},
   "outputs": [],
   "source": [
    "#lets define a plotting algorithm for our dataset and our centroids\n",
    "def plot(dataset, history_centroids, belongs_to):\n",
    "    #we'll have 2 colors for each centroid cluster\n",
    "    colors = ['r', 'g']\n",
    "\n",
    "    #split our graph by its axis and actual plot\n",
    "    fig, ax = plt.subplots()\n",
    "\n",
    "    #for each point in our dataset\n",
    "    for index in range(dataset.shape[0]):\n",
    "        #get all the points assigned to a cluster\n",
    "        instances_close = [i for i in range(len(belongs_to)) if belongs_to[i] == index]\n",
    "        #assign each datapoint in that cluster a color and plot it\n",
    "        for instance_index in instances_close:\n",
    "            ax.plot(dataset[instance_index][0], dataset[instance_index][1], (colors[index] + 'o'))\n",
    "\n",
    "    #lets also log the history of centroids calculated via training\n",
    "    history_points = []\n",
    "    #for each centroid ever calculated\n",
    "    for index, centroids in enumerate(history_centroids):\n",
    "        #print them all out\n",
    "        for inner, item in enumerate(centroids):\n",
    "            if index == 0:\n",
    "                history_points.append(ax.plot(item[0], item[1], 'bo')[0])\n",
    "            else:\n",
    "                history_points[inner].set_data(item[0], item[1])\n",
    "                print(\"centroids {} {}\".format(index, item))\n",
    "\n",
    "                plt.show()"
   ]
  },
  {
   "cell_type": "code",
   "execution_count": null,
   "metadata": {},
   "outputs": [],
   "source": [
    "a,b,c=k_mean(4)\n",
    "#plot(a,b,c)"
   ]
  },
  {
   "cell_type": "code",
   "execution_count": null,
   "metadata": {},
   "outputs": [],
   "source": []
  },
  {
   "cell_type": "code",
   "execution_count": null,
   "metadata": {},
   "outputs": [],
   "source": []
  }
 ],
 "metadata": {
  "kernelspec": {
   "display_name": "Python 2",
   "language": "python",
   "name": "python2"
  },
  "language_info": {
   "codemirror_mode": {
    "name": "ipython",
    "version": 2
   },
   "file_extension": ".py",
   "mimetype": "text/x-python",
   "name": "python",
   "nbconvert_exporter": "python",
   "pygments_lexer": "ipython2",
   "version": "2.7.12"
  }
 },
 "nbformat": 4,
 "nbformat_minor": 2
}
